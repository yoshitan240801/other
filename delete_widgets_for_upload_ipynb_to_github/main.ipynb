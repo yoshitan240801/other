{
 "cells": [
  {
   "cell_type": "code",
   "execution_count": 1,
   "id": "d4c59e8c-114f-4cb7-b8fb-1247edd471ca",
   "metadata": {},
   "outputs": [],
   "source": [
    "import json"
   ]
  },
  {
   "cell_type": "code",
   "execution_count": 2,
   "id": "a8db4f6b-a0c1-4948-adda-3f41218fa71c",
   "metadata": {},
   "outputs": [],
   "source": [
    "def clean_ipynb(path):\n",
    "    with open(path, 'r', encoding='utf-8') as f:\n",
    "        data = json.load(f)\n",
    "\n",
    "    # widgets削除\n",
    "    if \"metadata\" in data and \"widgets\" in data[\"metadata\"]:\n",
    "        del data[\"metadata\"][\"widgets\"]\n",
    "\n",
    "    with open(path, 'w', encoding='utf-8') as f:\n",
    "        json.dump(data, f, indent=1, ensure_ascii=False)\n",
    "\n",
    "    print(f\"{path} をクリーンアップしました。\")"
   ]
  },
  {
   "cell_type": "code",
   "execution_count": null,
   "id": "ffa3940f-d9d6-4c5c-b925-a38aec7a008f",
   "metadata": {},
   "outputs": [],
   "source": [
    "clean_ipynb(path=r\"C:\\Users\\user\\hogehoge.ipynb\")"
   ]
  }
 ],
 "metadata": {
  "kernelspec": {
   "display_name": "Python 3 (ipykernel)",
   "language": "python",
   "name": "python3"
  },
  "language_info": {
   "codemirror_mode": {
    "name": "ipython",
    "version": 3
   },
   "file_extension": ".py",
   "mimetype": "text/x-python",
   "name": "python",
   "nbconvert_exporter": "python",
   "pygments_lexer": "ipython3",
   "version": "3.11.5"
  }
 },
 "nbformat": 4,
 "nbformat_minor": 5
}
